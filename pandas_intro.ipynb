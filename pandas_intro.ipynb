{
 "cells": [
  {
   "cell_type": "markdown",
   "metadata": {},
   "source": [
    "# Pandas Introduction"
   ]
  },
  {
   "cell_type": "code",
   "execution_count": 1,
   "metadata": {},
   "outputs": [],
   "source": [
    "# Import Pandas library\n",
    "import pandas as pd"
   ]
  },
  {
   "cell_type": "markdown",
   "metadata": {},
   "source": [
    "## Basic dataframe manipulation"
   ]
  },
  {
   "cell_type": "code",
   "execution_count": 2,
   "metadata": {},
   "outputs": [
    {
     "data": {
      "text/html": [
       "<div>\n",
       "<style scoped>\n",
       "    .dataframe tbody tr th:only-of-type {\n",
       "        vertical-align: middle;\n",
       "    }\n",
       "\n",
       "    .dataframe tbody tr th {\n",
       "        vertical-align: top;\n",
       "    }\n",
       "\n",
       "    .dataframe thead th {\n",
       "        text-align: right;\n",
       "    }\n",
       "</style>\n",
       "<table border=\"1\" class=\"dataframe\">\n",
       "  <thead>\n",
       "    <tr style=\"text-align: right;\">\n",
       "      <th></th>\n",
       "      <th>A</th>\n",
       "      <th>B</th>\n",
       "      <th>C</th>\n",
       "    </tr>\n",
       "  </thead>\n",
       "  <tbody>\n",
       "    <tr>\n",
       "      <th>0</th>\n",
       "      <td>1</td>\n",
       "      <td>10</td>\n",
       "      <td>100</td>\n",
       "    </tr>\n",
       "    <tr>\n",
       "      <th>1</th>\n",
       "      <td>2</td>\n",
       "      <td>20</td>\n",
       "      <td>200</td>\n",
       "    </tr>\n",
       "    <tr>\n",
       "      <th>2</th>\n",
       "      <td>3</td>\n",
       "      <td>30</td>\n",
       "      <td>300</td>\n",
       "    </tr>\n",
       "    <tr>\n",
       "      <th>3</th>\n",
       "      <td>4</td>\n",
       "      <td>40</td>\n",
       "      <td>400</td>\n",
       "    </tr>\n",
       "    <tr>\n",
       "      <th>4</th>\n",
       "      <td>5</td>\n",
       "      <td>50</td>\n",
       "      <td>500</td>\n",
       "    </tr>\n",
       "  </tbody>\n",
       "</table>\n",
       "</div>"
      ],
      "text/plain": [
       "   A   B    C\n",
       "0  1  10  100\n",
       "1  2  20  200\n",
       "2  3  30  300\n",
       "3  4  40  400\n",
       "4  5  50  500"
      ]
     },
     "execution_count": 2,
     "metadata": {},
     "output_type": "execute_result"
    }
   ],
   "source": [
    "# First, we create a dictionary with the data we want to use, by passsing a dictionary to the DataFrame constructor\n",
    "df = pd.DataFrame({'A': [1, 2, 3, 4, 5],\n",
    "                     'B': [10, 20, 30, 40, 50],\n",
    "                     'C': [100, 200, 300, 400, 500]})\n",
    "\n",
    "df"
   ]
  },
  {
   "cell_type": "code",
   "execution_count": 3,
   "metadata": {},
   "outputs": [
    {
     "data": {
      "text/html": [
       "<div>\n",
       "<style scoped>\n",
       "    .dataframe tbody tr th:only-of-type {\n",
       "        vertical-align: middle;\n",
       "    }\n",
       "\n",
       "    .dataframe tbody tr th {\n",
       "        vertical-align: top;\n",
       "    }\n",
       "\n",
       "    .dataframe thead th {\n",
       "        text-align: right;\n",
       "    }\n",
       "</style>\n",
       "<table border=\"1\" class=\"dataframe\">\n",
       "  <thead>\n",
       "    <tr style=\"text-align: right;\">\n",
       "      <th></th>\n",
       "      <th>A</th>\n",
       "      <th>B</th>\n",
       "      <th>C</th>\n",
       "      <th>D</th>\n",
       "    </tr>\n",
       "  </thead>\n",
       "  <tbody>\n",
       "    <tr>\n",
       "      <th>0</th>\n",
       "      <td>1</td>\n",
       "      <td>10</td>\n",
       "      <td>100</td>\n",
       "      <td>111</td>\n",
       "    </tr>\n",
       "    <tr>\n",
       "      <th>1</th>\n",
       "      <td>2</td>\n",
       "      <td>20</td>\n",
       "      <td>200</td>\n",
       "      <td>222</td>\n",
       "    </tr>\n",
       "    <tr>\n",
       "      <th>2</th>\n",
       "      <td>3</td>\n",
       "      <td>30</td>\n",
       "      <td>300</td>\n",
       "      <td>333</td>\n",
       "    </tr>\n",
       "    <tr>\n",
       "      <th>3</th>\n",
       "      <td>4</td>\n",
       "      <td>40</td>\n",
       "      <td>400</td>\n",
       "      <td>444</td>\n",
       "    </tr>\n",
       "    <tr>\n",
       "      <th>4</th>\n",
       "      <td>5</td>\n",
       "      <td>50</td>\n",
       "      <td>500</td>\n",
       "      <td>555</td>\n",
       "    </tr>\n",
       "  </tbody>\n",
       "</table>\n",
       "</div>"
      ],
      "text/plain": [
       "   A   B    C    D\n",
       "0  1  10  100  111\n",
       "1  2  20  200  222\n",
       "2  3  30  300  333\n",
       "3  4  40  400  444\n",
       "4  5  50  500  555"
      ]
     },
     "execution_count": 3,
     "metadata": {},
     "output_type": "execute_result"
    }
   ],
   "source": [
    "# Let's add a new column to the DataFrame\n",
    "df['D'] = df['A'] + df['B'] + df['C']\n",
    "df"
   ]
  },
  {
   "cell_type": "code",
   "execution_count": 4,
   "metadata": {},
   "outputs": [
    {
     "data": {
      "text/html": [
       "<div>\n",
       "<style scoped>\n",
       "    .dataframe tbody tr th:only-of-type {\n",
       "        vertical-align: middle;\n",
       "    }\n",
       "\n",
       "    .dataframe tbody tr th {\n",
       "        vertical-align: top;\n",
       "    }\n",
       "\n",
       "    .dataframe thead th {\n",
       "        text-align: right;\n",
       "    }\n",
       "</style>\n",
       "<table border=\"1\" class=\"dataframe\">\n",
       "  <thead>\n",
       "    <tr style=\"text-align: right;\">\n",
       "      <th></th>\n",
       "      <th>A</th>\n",
       "      <th>B</th>\n",
       "      <th>C</th>\n",
       "      <th>D</th>\n",
       "    </tr>\n",
       "  </thead>\n",
       "  <tbody>\n",
       "    <tr>\n",
       "      <th>2022-10-01</th>\n",
       "      <td>1</td>\n",
       "      <td>10</td>\n",
       "      <td>100</td>\n",
       "      <td>111</td>\n",
       "    </tr>\n",
       "    <tr>\n",
       "      <th>2022-10-02</th>\n",
       "      <td>2</td>\n",
       "      <td>20</td>\n",
       "      <td>200</td>\n",
       "      <td>222</td>\n",
       "    </tr>\n",
       "    <tr>\n",
       "      <th>2022-10-03</th>\n",
       "      <td>3</td>\n",
       "      <td>30</td>\n",
       "      <td>300</td>\n",
       "      <td>333</td>\n",
       "    </tr>\n",
       "    <tr>\n",
       "      <th>2022-10-04</th>\n",
       "      <td>4</td>\n",
       "      <td>40</td>\n",
       "      <td>400</td>\n",
       "      <td>444</td>\n",
       "    </tr>\n",
       "    <tr>\n",
       "      <th>2022-10-05</th>\n",
       "      <td>5</td>\n",
       "      <td>50</td>\n",
       "      <td>500</td>\n",
       "      <td>555</td>\n",
       "    </tr>\n",
       "  </tbody>\n",
       "</table>\n",
       "</div>"
      ],
      "text/plain": [
       "            A   B    C    D\n",
       "2022-10-01  1  10  100  111\n",
       "2022-10-02  2  20  200  222\n",
       "2022-10-03  3  30  300  333\n",
       "2022-10-04  4  40  400  444\n",
       "2022-10-05  5  50  500  555"
      ]
     },
     "execution_count": 4,
     "metadata": {},
     "output_type": "execute_result"
    }
   ],
   "source": [
    "# Adding a date index to the DataFrame\n",
    "df.index = pd.date_range('2022-10-01', periods=5, freq='D')\n",
    "df"
   ]
  },
  {
   "cell_type": "markdown",
   "metadata": {},
   "source": [
    "## Basic operations and built-in functions"
   ]
  },
  {
   "cell_type": "code",
   "execution_count": 5,
   "metadata": {},
   "outputs": [
    {
     "name": "stdout",
     "output_type": "stream",
     "text": [
      "The mean of the dataframe is:  A      3.0\n",
      "B     30.0\n",
      "C    300.0\n",
      "D    333.0\n",
      "dtype: float64\n",
      "The mean of the columns is:  2022-10-01     55.5\n",
      "2022-10-02    111.0\n",
      "2022-10-03    166.5\n",
      "2022-10-04    222.0\n",
      "2022-10-05    277.5\n",
      "Freq: D, dtype: float64\n"
     ]
    }
   ],
   "source": [
    "# Different ways to retrieve the mean of the dataframe\n",
    "\n",
    "# Let's retrieve the mean of all the columns. To take the mean for each column we have to iterate over each rows and retrieve the values for each column. Then we can calculate the mean for each column. That is why we have to use the axis=0 or rows parameter. As we want to visit each row for each column.\n",
    "\n",
    "# print(\"The mean of the dataframe is: \", df.mean())\n",
    "# print(\"The mean of the dataframe is: \", df.mean(axis=0))\n",
    "# print(\"The mean of the dataframe is: \", df.mean(axis='index'))\n",
    "print(\"The mean of the dataframe is: \", df.mean(axis='rows'))\n",
    "\n",
    "\n",
    "# Let's retrieve the mean of all the rows. To take the mean for each row we have to iterate over each column and retrieve the values for each row. Then we can calculate the mean for each row. That is why we have to use the axis=1 or columns parameter. As we want to visit each column for each row.\n",
    "\n",
    "print(\"The mean of the columns is: \", df.mean(axis=1))\n",
    "# print(\"The mean of the columns is: \", df.mean(axis='columns'))\n",
    "\n",
    "# So always remember that the axis parameter is used to specify the direction of the iteration. If we want to iterate over the rows we have to use axis=0 or axis='index' or axis='rows'. If we want to iterate over the columns we have to use axis=1 or axis='columns'."
   ]
  },
  {
   "cell_type": "code",
   "execution_count": 6,
   "metadata": {},
   "outputs": [
    {
     "data": {
      "text/plain": [
       "2022-10-01    111\n",
       "2022-10-02    222\n",
       "2022-10-03    333\n",
       "2022-10-04    444\n",
       "2022-10-05    555\n",
       "Freq: D, dtype: int64"
      ]
     },
     "execution_count": 6,
     "metadata": {},
     "output_type": "execute_result"
    }
   ],
   "source": [
    "# The same applies for every other function builtin function\n",
    "df.max(axis=1)"
   ]
  },
  {
   "cell_type": "markdown",
   "metadata": {},
   "source": [
    "## Slice the dataframe, indexing and selecting data"
   ]
  },
  {
   "cell_type": "code",
   "execution_count": 7,
   "metadata": {},
   "outputs": [
    {
     "data": {
      "text/html": [
       "<div>\n",
       "<style scoped>\n",
       "    .dataframe tbody tr th:only-of-type {\n",
       "        vertical-align: middle;\n",
       "    }\n",
       "\n",
       "    .dataframe tbody tr th {\n",
       "        vertical-align: top;\n",
       "    }\n",
       "\n",
       "    .dataframe thead th {\n",
       "        text-align: right;\n",
       "    }\n",
       "</style>\n",
       "<table border=\"1\" class=\"dataframe\">\n",
       "  <thead>\n",
       "    <tr style=\"text-align: right;\">\n",
       "      <th></th>\n",
       "      <th>A</th>\n",
       "      <th>B</th>\n",
       "      <th>C</th>\n",
       "    </tr>\n",
       "  </thead>\n",
       "  <tbody>\n",
       "    <tr>\n",
       "      <th>2022-10-01</th>\n",
       "      <td>1</td>\n",
       "      <td>10</td>\n",
       "      <td>100</td>\n",
       "    </tr>\n",
       "    <tr>\n",
       "      <th>2022-10-02</th>\n",
       "      <td>2</td>\n",
       "      <td>20</td>\n",
       "      <td>200</td>\n",
       "    </tr>\n",
       "    <tr>\n",
       "      <th>2022-10-03</th>\n",
       "      <td>3</td>\n",
       "      <td>30</td>\n",
       "      <td>300</td>\n",
       "    </tr>\n",
       "  </tbody>\n",
       "</table>\n",
       "</div>"
      ],
      "text/plain": [
       "            A   B    C\n",
       "2022-10-01  1  10  100\n",
       "2022-10-02  2  20  200\n",
       "2022-10-03  3  30  300"
      ]
     },
     "execution_count": 7,
     "metadata": {},
     "output_type": "execute_result"
    }
   ],
   "source": [
    "# lets see all the different ways to slice a dataframe\n",
    "\n",
    "# # Lets retrieve the first 3 rows\n",
    "df[:3]\n",
    "\n",
    "# Lets retrieve the last 3 rows\n",
    "df[-3:]\n",
    "\n",
    "# Lets retrieve the first 3 columns\n",
    "df.iloc[:, :3]\n",
    "\n",
    "# # Lets retrieve the last 3 columns\n",
    "df.iloc[:, -3:]\n",
    "\n",
    "# # Lets retrieve the first 3 rows and the first 3 columns\n",
    "df.iloc[:3, :3]"
   ]
  },
  {
   "cell_type": "markdown",
   "metadata": {},
   "source": [
    "## Extra functionality"
   ]
  },
  {
   "cell_type": "code",
   "execution_count": 8,
   "metadata": {},
   "outputs": [
    {
     "data": {
      "text/html": [
       "<style type=\"text/css\">\n",
       "#T_70e45_row4_col0, #T_70e45_row4_col1, #T_70e45_row4_col2, #T_70e45_row4_col3 {\n",
       "  background-color: yellow;\n",
       "}\n",
       "</style>\n",
       "<table id=\"T_70e45\">\n",
       "  <thead>\n",
       "    <tr>\n",
       "      <th class=\"blank level0\" >&nbsp;</th>\n",
       "      <th id=\"T_70e45_level0_col0\" class=\"col_heading level0 col0\" >A</th>\n",
       "      <th id=\"T_70e45_level0_col1\" class=\"col_heading level0 col1\" >B</th>\n",
       "      <th id=\"T_70e45_level0_col2\" class=\"col_heading level0 col2\" >C</th>\n",
       "      <th id=\"T_70e45_level0_col3\" class=\"col_heading level0 col3\" >D</th>\n",
       "    </tr>\n",
       "  </thead>\n",
       "  <tbody>\n",
       "    <tr>\n",
       "      <th id=\"T_70e45_level0_row0\" class=\"row_heading level0 row0\" >2022-10-01 00:00:00</th>\n",
       "      <td id=\"T_70e45_row0_col0\" class=\"data row0 col0\" >1</td>\n",
       "      <td id=\"T_70e45_row0_col1\" class=\"data row0 col1\" >10</td>\n",
       "      <td id=\"T_70e45_row0_col2\" class=\"data row0 col2\" >100</td>\n",
       "      <td id=\"T_70e45_row0_col3\" class=\"data row0 col3\" >111</td>\n",
       "    </tr>\n",
       "    <tr>\n",
       "      <th id=\"T_70e45_level0_row1\" class=\"row_heading level0 row1\" >2022-10-02 00:00:00</th>\n",
       "      <td id=\"T_70e45_row1_col0\" class=\"data row1 col0\" >2</td>\n",
       "      <td id=\"T_70e45_row1_col1\" class=\"data row1 col1\" >20</td>\n",
       "      <td id=\"T_70e45_row1_col2\" class=\"data row1 col2\" >200</td>\n",
       "      <td id=\"T_70e45_row1_col3\" class=\"data row1 col3\" >222</td>\n",
       "    </tr>\n",
       "    <tr>\n",
       "      <th id=\"T_70e45_level0_row2\" class=\"row_heading level0 row2\" >2022-10-03 00:00:00</th>\n",
       "      <td id=\"T_70e45_row2_col0\" class=\"data row2 col0\" >3</td>\n",
       "      <td id=\"T_70e45_row2_col1\" class=\"data row2 col1\" >30</td>\n",
       "      <td id=\"T_70e45_row2_col2\" class=\"data row2 col2\" >300</td>\n",
       "      <td id=\"T_70e45_row2_col3\" class=\"data row2 col3\" >333</td>\n",
       "    </tr>\n",
       "    <tr>\n",
       "      <th id=\"T_70e45_level0_row3\" class=\"row_heading level0 row3\" >2022-10-04 00:00:00</th>\n",
       "      <td id=\"T_70e45_row3_col0\" class=\"data row3 col0\" >4</td>\n",
       "      <td id=\"T_70e45_row3_col1\" class=\"data row3 col1\" >40</td>\n",
       "      <td id=\"T_70e45_row3_col2\" class=\"data row3 col2\" >400</td>\n",
       "      <td id=\"T_70e45_row3_col3\" class=\"data row3 col3\" >444</td>\n",
       "    </tr>\n",
       "    <tr>\n",
       "      <th id=\"T_70e45_level0_row4\" class=\"row_heading level0 row4\" >2022-10-05 00:00:00</th>\n",
       "      <td id=\"T_70e45_row4_col0\" class=\"data row4 col0\" >5</td>\n",
       "      <td id=\"T_70e45_row4_col1\" class=\"data row4 col1\" >50</td>\n",
       "      <td id=\"T_70e45_row4_col2\" class=\"data row4 col2\" >500</td>\n",
       "      <td id=\"T_70e45_row4_col3\" class=\"data row4 col3\" >555</td>\n",
       "    </tr>\n",
       "  </tbody>\n",
       "</table>\n"
      ],
      "text/plain": [
       "<pandas.io.formats.style.Styler at 0x1a50b8fc040>"
      ]
     },
     "execution_count": 8,
     "metadata": {},
     "output_type": "execute_result"
    }
   ],
   "source": [
    "# Color the cells with the highest value in each column\n",
    "def highlight_max(s):\n",
    "    is_max = s == s.max()\n",
    "    return ['background-color: yellow' if v else '' for v in is_max]\n",
    "\n",
    "df.style.apply(highlight_max)\n"
   ]
  },
  {
   "cell_type": "code",
   "execution_count": 9,
   "metadata": {},
   "outputs": [
    {
     "data": {
      "text/html": [
       "<style type=\"text/css\">\n",
       "#T_64bb9_row0_col3, #T_64bb9_row1_col3, #T_64bb9_row2_col3, #T_64bb9_row3_col3, #T_64bb9_row4_col3 {\n",
       "  background-color: yellow;\n",
       "}\n",
       "</style>\n",
       "<table id=\"T_64bb9\">\n",
       "  <thead>\n",
       "    <tr>\n",
       "      <th class=\"blank level0\" >&nbsp;</th>\n",
       "      <th id=\"T_64bb9_level0_col0\" class=\"col_heading level0 col0\" >A</th>\n",
       "      <th id=\"T_64bb9_level0_col1\" class=\"col_heading level0 col1\" >B</th>\n",
       "      <th id=\"T_64bb9_level0_col2\" class=\"col_heading level0 col2\" >C</th>\n",
       "      <th id=\"T_64bb9_level0_col3\" class=\"col_heading level0 col3\" >D</th>\n",
       "    </tr>\n",
       "  </thead>\n",
       "  <tbody>\n",
       "    <tr>\n",
       "      <th id=\"T_64bb9_level0_row0\" class=\"row_heading level0 row0\" >2022-10-01 00:00:00</th>\n",
       "      <td id=\"T_64bb9_row0_col0\" class=\"data row0 col0\" >1</td>\n",
       "      <td id=\"T_64bb9_row0_col1\" class=\"data row0 col1\" >10</td>\n",
       "      <td id=\"T_64bb9_row0_col2\" class=\"data row0 col2\" >100</td>\n",
       "      <td id=\"T_64bb9_row0_col3\" class=\"data row0 col3\" >111</td>\n",
       "    </tr>\n",
       "    <tr>\n",
       "      <th id=\"T_64bb9_level0_row1\" class=\"row_heading level0 row1\" >2022-10-02 00:00:00</th>\n",
       "      <td id=\"T_64bb9_row1_col0\" class=\"data row1 col0\" >2</td>\n",
       "      <td id=\"T_64bb9_row1_col1\" class=\"data row1 col1\" >20</td>\n",
       "      <td id=\"T_64bb9_row1_col2\" class=\"data row1 col2\" >200</td>\n",
       "      <td id=\"T_64bb9_row1_col3\" class=\"data row1 col3\" >222</td>\n",
       "    </tr>\n",
       "    <tr>\n",
       "      <th id=\"T_64bb9_level0_row2\" class=\"row_heading level0 row2\" >2022-10-03 00:00:00</th>\n",
       "      <td id=\"T_64bb9_row2_col0\" class=\"data row2 col0\" >3</td>\n",
       "      <td id=\"T_64bb9_row2_col1\" class=\"data row2 col1\" >30</td>\n",
       "      <td id=\"T_64bb9_row2_col2\" class=\"data row2 col2\" >300</td>\n",
       "      <td id=\"T_64bb9_row2_col3\" class=\"data row2 col3\" >333</td>\n",
       "    </tr>\n",
       "    <tr>\n",
       "      <th id=\"T_64bb9_level0_row3\" class=\"row_heading level0 row3\" >2022-10-04 00:00:00</th>\n",
       "      <td id=\"T_64bb9_row3_col0\" class=\"data row3 col0\" >4</td>\n",
       "      <td id=\"T_64bb9_row3_col1\" class=\"data row3 col1\" >40</td>\n",
       "      <td id=\"T_64bb9_row3_col2\" class=\"data row3 col2\" >400</td>\n",
       "      <td id=\"T_64bb9_row3_col3\" class=\"data row3 col3\" >444</td>\n",
       "    </tr>\n",
       "    <tr>\n",
       "      <th id=\"T_64bb9_level0_row4\" class=\"row_heading level0 row4\" >2022-10-05 00:00:00</th>\n",
       "      <td id=\"T_64bb9_row4_col0\" class=\"data row4 col0\" >5</td>\n",
       "      <td id=\"T_64bb9_row4_col1\" class=\"data row4 col1\" >50</td>\n",
       "      <td id=\"T_64bb9_row4_col2\" class=\"data row4 col2\" >500</td>\n",
       "      <td id=\"T_64bb9_row4_col3\" class=\"data row4 col3\" >555</td>\n",
       "    </tr>\n",
       "  </tbody>\n",
       "</table>\n"
      ],
      "text/plain": [
       "<pandas.io.formats.style.Styler at 0x1a508db3400>"
      ]
     },
     "execution_count": 9,
     "metadata": {},
     "output_type": "execute_result"
    }
   ],
   "source": [
    "# Color the cells with the highest value in each row\n",
    "def highlight_max(s):\n",
    "    is_max = s == s.max()\n",
    "    return ['background-color: yellow' if v else '' for v in is_max]\n",
    "\n",
    "df.style.apply(highlight_max, axis=1)\n"
   ]
  },
  {
   "cell_type": "markdown",
   "metadata": {},
   "source": [
    "# A first example"
   ]
  },
  {
   "cell_type": "code",
   "execution_count": 10,
   "metadata": {},
   "outputs": [],
   "source": [
    "import pandas as pd"
   ]
  },
  {
   "cell_type": "code",
   "execution_count": 11,
   "metadata": {},
   "outputs": [],
   "source": [
    "# read the data from the csv file\n",
    "df = pd.read_csv('datasets/iris.csv')"
   ]
  },
  {
   "cell_type": "code",
   "execution_count": 12,
   "metadata": {},
   "outputs": [
    {
     "data": {
      "text/html": [
       "<div>\n",
       "<style scoped>\n",
       "    .dataframe tbody tr th:only-of-type {\n",
       "        vertical-align: middle;\n",
       "    }\n",
       "\n",
       "    .dataframe tbody tr th {\n",
       "        vertical-align: top;\n",
       "    }\n",
       "\n",
       "    .dataframe thead th {\n",
       "        text-align: right;\n",
       "    }\n",
       "</style>\n",
       "<table border=\"1\" class=\"dataframe\">\n",
       "  <thead>\n",
       "    <tr style=\"text-align: right;\">\n",
       "      <th></th>\n",
       "      <th>Id</th>\n",
       "      <th>SepalLengthCm</th>\n",
       "      <th>SepalWidthCm</th>\n",
       "      <th>PetalLengthCm</th>\n",
       "      <th>PetalWidthCm</th>\n",
       "      <th>Species</th>\n",
       "    </tr>\n",
       "  </thead>\n",
       "  <tbody>\n",
       "    <tr>\n",
       "      <th>0</th>\n",
       "      <td>1</td>\n",
       "      <td>5.1</td>\n",
       "      <td>3.5</td>\n",
       "      <td>1.4</td>\n",
       "      <td>0.2</td>\n",
       "      <td>Iris-setosa</td>\n",
       "    </tr>\n",
       "    <tr>\n",
       "      <th>1</th>\n",
       "      <td>2</td>\n",
       "      <td>4.9</td>\n",
       "      <td>3.0</td>\n",
       "      <td>1.4</td>\n",
       "      <td>0.2</td>\n",
       "      <td>Iris-setosa</td>\n",
       "    </tr>\n",
       "    <tr>\n",
       "      <th>2</th>\n",
       "      <td>3</td>\n",
       "      <td>4.7</td>\n",
       "      <td>3.2</td>\n",
       "      <td>1.3</td>\n",
       "      <td>0.2</td>\n",
       "      <td>Iris-setosa</td>\n",
       "    </tr>\n",
       "    <tr>\n",
       "      <th>3</th>\n",
       "      <td>4</td>\n",
       "      <td>4.6</td>\n",
       "      <td>3.1</td>\n",
       "      <td>1.5</td>\n",
       "      <td>0.2</td>\n",
       "      <td>Iris-setosa</td>\n",
       "    </tr>\n",
       "    <tr>\n",
       "      <th>4</th>\n",
       "      <td>5</td>\n",
       "      <td>5.0</td>\n",
       "      <td>3.6</td>\n",
       "      <td>1.4</td>\n",
       "      <td>0.2</td>\n",
       "      <td>Iris-setosa</td>\n",
       "    </tr>\n",
       "  </tbody>\n",
       "</table>\n",
       "</div>"
      ],
      "text/plain": [
       "   Id  SepalLengthCm  SepalWidthCm  PetalLengthCm  PetalWidthCm      Species\n",
       "0   1            5.1           3.5            1.4           0.2  Iris-setosa\n",
       "1   2            4.9           3.0            1.4           0.2  Iris-setosa\n",
       "2   3            4.7           3.2            1.3           0.2  Iris-setosa\n",
       "3   4            4.6           3.1            1.5           0.2  Iris-setosa\n",
       "4   5            5.0           3.6            1.4           0.2  Iris-setosa"
      ]
     },
     "execution_count": 12,
     "metadata": {},
     "output_type": "execute_result"
    }
   ],
   "source": [
    "# Let's see the first 5 rows\n",
    "df.head()"
   ]
  },
  {
   "cell_type": "code",
   "execution_count": 13,
   "metadata": {},
   "outputs": [
    {
     "data": {
      "text/html": [
       "<div>\n",
       "<style scoped>\n",
       "    .dataframe tbody tr th:only-of-type {\n",
       "        vertical-align: middle;\n",
       "    }\n",
       "\n",
       "    .dataframe tbody tr th {\n",
       "        vertical-align: top;\n",
       "    }\n",
       "\n",
       "    .dataframe thead th {\n",
       "        text-align: right;\n",
       "    }\n",
       "</style>\n",
       "<table border=\"1\" class=\"dataframe\">\n",
       "  <thead>\n",
       "    <tr style=\"text-align: right;\">\n",
       "      <th></th>\n",
       "      <th>Id</th>\n",
       "      <th>SepalLengthCm</th>\n",
       "      <th>SepalWidthCm</th>\n",
       "      <th>PetalLengthCm</th>\n",
       "      <th>PetalWidthCm</th>\n",
       "      <th>Species</th>\n",
       "    </tr>\n",
       "  </thead>\n",
       "  <tbody>\n",
       "    <tr>\n",
       "      <th>145</th>\n",
       "      <td>146</td>\n",
       "      <td>6.7</td>\n",
       "      <td>3.0</td>\n",
       "      <td>5.2</td>\n",
       "      <td>2.3</td>\n",
       "      <td>Iris-virginica</td>\n",
       "    </tr>\n",
       "    <tr>\n",
       "      <th>146</th>\n",
       "      <td>147</td>\n",
       "      <td>6.3</td>\n",
       "      <td>2.5</td>\n",
       "      <td>5.0</td>\n",
       "      <td>1.9</td>\n",
       "      <td>Iris-virginica</td>\n",
       "    </tr>\n",
       "    <tr>\n",
       "      <th>147</th>\n",
       "      <td>148</td>\n",
       "      <td>6.5</td>\n",
       "      <td>3.0</td>\n",
       "      <td>5.2</td>\n",
       "      <td>2.0</td>\n",
       "      <td>Iris-virginica</td>\n",
       "    </tr>\n",
       "    <tr>\n",
       "      <th>148</th>\n",
       "      <td>149</td>\n",
       "      <td>6.2</td>\n",
       "      <td>3.4</td>\n",
       "      <td>5.4</td>\n",
       "      <td>2.3</td>\n",
       "      <td>Iris-virginica</td>\n",
       "    </tr>\n",
       "    <tr>\n",
       "      <th>149</th>\n",
       "      <td>150</td>\n",
       "      <td>5.9</td>\n",
       "      <td>3.0</td>\n",
       "      <td>5.1</td>\n",
       "      <td>1.8</td>\n",
       "      <td>Iris-virginica</td>\n",
       "    </tr>\n",
       "  </tbody>\n",
       "</table>\n",
       "</div>"
      ],
      "text/plain": [
       "      Id  SepalLengthCm  SepalWidthCm  PetalLengthCm  PetalWidthCm  \\\n",
       "145  146            6.7           3.0            5.2           2.3   \n",
       "146  147            6.3           2.5            5.0           1.9   \n",
       "147  148            6.5           3.0            5.2           2.0   \n",
       "148  149            6.2           3.4            5.4           2.3   \n",
       "149  150            5.9           3.0            5.1           1.8   \n",
       "\n",
       "            Species  \n",
       "145  Iris-virginica  \n",
       "146  Iris-virginica  \n",
       "147  Iris-virginica  \n",
       "148  Iris-virginica  \n",
       "149  Iris-virginica  "
      ]
     },
     "execution_count": 13,
     "metadata": {},
     "output_type": "execute_result"
    }
   ],
   "source": [
    "# Let's see the last 5 rows\n",
    "df.tail()"
   ]
  },
  {
   "cell_type": "code",
   "execution_count": 14,
   "metadata": {},
   "outputs": [
    {
     "name": "stdout",
     "output_type": "stream",
     "text": [
      "<class 'pandas.core.frame.DataFrame'>\n",
      "RangeIndex: 150 entries, 0 to 149\n",
      "Data columns (total 6 columns):\n",
      " #   Column         Non-Null Count  Dtype  \n",
      "---  ------         --------------  -----  \n",
      " 0   Id             150 non-null    int64  \n",
      " 1   SepalLengthCm  150 non-null    float64\n",
      " 2   SepalWidthCm   150 non-null    float64\n",
      " 3   PetalLengthCm  150 non-null    float64\n",
      " 4   PetalWidthCm   150 non-null    float64\n",
      " 5   Species        150 non-null    object \n",
      "dtypes: float64(4), int64(1), object(1)\n",
      "memory usage: 7.2+ KB\n"
     ]
    }
   ],
   "source": [
    "df.info()"
   ]
  },
  {
   "cell_type": "code",
   "execution_count": 15,
   "metadata": {},
   "outputs": [
    {
     "data": {
      "text/html": [
       "<div>\n",
       "<style scoped>\n",
       "    .dataframe tbody tr th:only-of-type {\n",
       "        vertical-align: middle;\n",
       "    }\n",
       "\n",
       "    .dataframe tbody tr th {\n",
       "        vertical-align: top;\n",
       "    }\n",
       "\n",
       "    .dataframe thead th {\n",
       "        text-align: right;\n",
       "    }\n",
       "</style>\n",
       "<table border=\"1\" class=\"dataframe\">\n",
       "  <thead>\n",
       "    <tr style=\"text-align: right;\">\n",
       "      <th></th>\n",
       "      <th>Id</th>\n",
       "      <th>SepalLengthCm</th>\n",
       "      <th>SepalWidthCm</th>\n",
       "      <th>PetalLengthCm</th>\n",
       "      <th>PetalWidthCm</th>\n",
       "    </tr>\n",
       "  </thead>\n",
       "  <tbody>\n",
       "    <tr>\n",
       "      <th>count</th>\n",
       "      <td>150.000000</td>\n",
       "      <td>150.000000</td>\n",
       "      <td>150.000000</td>\n",
       "      <td>150.000000</td>\n",
       "      <td>150.000000</td>\n",
       "    </tr>\n",
       "    <tr>\n",
       "      <th>mean</th>\n",
       "      <td>75.500000</td>\n",
       "      <td>5.843333</td>\n",
       "      <td>3.054000</td>\n",
       "      <td>3.758667</td>\n",
       "      <td>1.198667</td>\n",
       "    </tr>\n",
       "    <tr>\n",
       "      <th>std</th>\n",
       "      <td>43.445368</td>\n",
       "      <td>0.828066</td>\n",
       "      <td>0.433594</td>\n",
       "      <td>1.764420</td>\n",
       "      <td>0.763161</td>\n",
       "    </tr>\n",
       "    <tr>\n",
       "      <th>min</th>\n",
       "      <td>1.000000</td>\n",
       "      <td>4.300000</td>\n",
       "      <td>2.000000</td>\n",
       "      <td>1.000000</td>\n",
       "      <td>0.100000</td>\n",
       "    </tr>\n",
       "    <tr>\n",
       "      <th>25%</th>\n",
       "      <td>38.250000</td>\n",
       "      <td>5.100000</td>\n",
       "      <td>2.800000</td>\n",
       "      <td>1.600000</td>\n",
       "      <td>0.300000</td>\n",
       "    </tr>\n",
       "    <tr>\n",
       "      <th>50%</th>\n",
       "      <td>75.500000</td>\n",
       "      <td>5.800000</td>\n",
       "      <td>3.000000</td>\n",
       "      <td>4.350000</td>\n",
       "      <td>1.300000</td>\n",
       "    </tr>\n",
       "    <tr>\n",
       "      <th>75%</th>\n",
       "      <td>112.750000</td>\n",
       "      <td>6.400000</td>\n",
       "      <td>3.300000</td>\n",
       "      <td>5.100000</td>\n",
       "      <td>1.800000</td>\n",
       "    </tr>\n",
       "    <tr>\n",
       "      <th>max</th>\n",
       "      <td>150.000000</td>\n",
       "      <td>7.900000</td>\n",
       "      <td>4.400000</td>\n",
       "      <td>6.900000</td>\n",
       "      <td>2.500000</td>\n",
       "    </tr>\n",
       "  </tbody>\n",
       "</table>\n",
       "</div>"
      ],
      "text/plain": [
       "               Id  SepalLengthCm  SepalWidthCm  PetalLengthCm  PetalWidthCm\n",
       "count  150.000000     150.000000    150.000000     150.000000    150.000000\n",
       "mean    75.500000       5.843333      3.054000       3.758667      1.198667\n",
       "std     43.445368       0.828066      0.433594       1.764420      0.763161\n",
       "min      1.000000       4.300000      2.000000       1.000000      0.100000\n",
       "25%     38.250000       5.100000      2.800000       1.600000      0.300000\n",
       "50%     75.500000       5.800000      3.000000       4.350000      1.300000\n",
       "75%    112.750000       6.400000      3.300000       5.100000      1.800000\n",
       "max    150.000000       7.900000      4.400000       6.900000      2.500000"
      ]
     },
     "execution_count": 15,
     "metadata": {},
     "output_type": "execute_result"
    }
   ],
   "source": [
    "df.describe()"
   ]
  },
  {
   "cell_type": "code",
   "execution_count": 16,
   "metadata": {},
   "outputs": [],
   "source": [
    "# Drop the id column\n",
    "df.drop('Id', axis=1, inplace=True)"
   ]
  },
  {
   "cell_type": "code",
   "execution_count": 17,
   "metadata": {},
   "outputs": [
    {
     "data": {
      "text/html": [
       "<div>\n",
       "<style scoped>\n",
       "    .dataframe tbody tr th:only-of-type {\n",
       "        vertical-align: middle;\n",
       "    }\n",
       "\n",
       "    .dataframe tbody tr th {\n",
       "        vertical-align: top;\n",
       "    }\n",
       "\n",
       "    .dataframe thead th {\n",
       "        text-align: right;\n",
       "    }\n",
       "</style>\n",
       "<table border=\"1\" class=\"dataframe\">\n",
       "  <thead>\n",
       "    <tr style=\"text-align: right;\">\n",
       "      <th></th>\n",
       "      <th>SepalLengthCm</th>\n",
       "      <th>SepalWidthCm</th>\n",
       "      <th>PetalLengthCm</th>\n",
       "      <th>PetalWidthCm</th>\n",
       "    </tr>\n",
       "    <tr>\n",
       "      <th>Species</th>\n",
       "      <th></th>\n",
       "      <th></th>\n",
       "      <th></th>\n",
       "      <th></th>\n",
       "    </tr>\n",
       "  </thead>\n",
       "  <tbody>\n",
       "    <tr>\n",
       "      <th>Iris-setosa</th>\n",
       "      <td>5.006</td>\n",
       "      <td>3.418</td>\n",
       "      <td>1.464</td>\n",
       "      <td>0.244</td>\n",
       "    </tr>\n",
       "    <tr>\n",
       "      <th>Iris-versicolor</th>\n",
       "      <td>5.936</td>\n",
       "      <td>2.770</td>\n",
       "      <td>4.260</td>\n",
       "      <td>1.326</td>\n",
       "    </tr>\n",
       "    <tr>\n",
       "      <th>Iris-virginica</th>\n",
       "      <td>6.588</td>\n",
       "      <td>2.974</td>\n",
       "      <td>5.552</td>\n",
       "      <td>2.026</td>\n",
       "    </tr>\n",
       "  </tbody>\n",
       "</table>\n",
       "</div>"
      ],
      "text/plain": [
       "                 SepalLengthCm  SepalWidthCm  PetalLengthCm  PetalWidthCm\n",
       "Species                                                                  \n",
       "Iris-setosa              5.006         3.418          1.464         0.244\n",
       "Iris-versicolor          5.936         2.770          4.260         1.326\n",
       "Iris-virginica           6.588         2.974          5.552         2.026"
      ]
     },
     "execution_count": 17,
     "metadata": {},
     "output_type": "execute_result"
    }
   ],
   "source": [
    "# Find the mean for each species\n",
    "df.groupby('Species').mean()"
   ]
  },
  {
   "cell_type": "code",
   "execution_count": 18,
   "metadata": {},
   "outputs": [
    {
     "data": {
      "text/html": [
       "<style type=\"text/css\">\n",
       "#T_ffbf9_row0_col1, #T_ffbf9_row2_col0, #T_ffbf9_row2_col2, #T_ffbf9_row2_col3 {\n",
       "  background-color: yellow;\n",
       "}\n",
       "</style>\n",
       "<table id=\"T_ffbf9\">\n",
       "  <thead>\n",
       "    <tr>\n",
       "      <th class=\"blank level0\" >&nbsp;</th>\n",
       "      <th id=\"T_ffbf9_level0_col0\" class=\"col_heading level0 col0\" >SepalLengthCm</th>\n",
       "      <th id=\"T_ffbf9_level0_col1\" class=\"col_heading level0 col1\" >SepalWidthCm</th>\n",
       "      <th id=\"T_ffbf9_level0_col2\" class=\"col_heading level0 col2\" >PetalLengthCm</th>\n",
       "      <th id=\"T_ffbf9_level0_col3\" class=\"col_heading level0 col3\" >PetalWidthCm</th>\n",
       "    </tr>\n",
       "    <tr>\n",
       "      <th class=\"index_name level0\" >Species</th>\n",
       "      <th class=\"blank col0\" >&nbsp;</th>\n",
       "      <th class=\"blank col1\" >&nbsp;</th>\n",
       "      <th class=\"blank col2\" >&nbsp;</th>\n",
       "      <th class=\"blank col3\" >&nbsp;</th>\n",
       "    </tr>\n",
       "  </thead>\n",
       "  <tbody>\n",
       "    <tr>\n",
       "      <th id=\"T_ffbf9_level0_row0\" class=\"row_heading level0 row0\" >Iris-setosa</th>\n",
       "      <td id=\"T_ffbf9_row0_col0\" class=\"data row0 col0\" >5.006000</td>\n",
       "      <td id=\"T_ffbf9_row0_col1\" class=\"data row0 col1\" >3.418000</td>\n",
       "      <td id=\"T_ffbf9_row0_col2\" class=\"data row0 col2\" >1.464000</td>\n",
       "      <td id=\"T_ffbf9_row0_col3\" class=\"data row0 col3\" >0.244000</td>\n",
       "    </tr>\n",
       "    <tr>\n",
       "      <th id=\"T_ffbf9_level0_row1\" class=\"row_heading level0 row1\" >Iris-versicolor</th>\n",
       "      <td id=\"T_ffbf9_row1_col0\" class=\"data row1 col0\" >5.936000</td>\n",
       "      <td id=\"T_ffbf9_row1_col1\" class=\"data row1 col1\" >2.770000</td>\n",
       "      <td id=\"T_ffbf9_row1_col2\" class=\"data row1 col2\" >4.260000</td>\n",
       "      <td id=\"T_ffbf9_row1_col3\" class=\"data row1 col3\" >1.326000</td>\n",
       "    </tr>\n",
       "    <tr>\n",
       "      <th id=\"T_ffbf9_level0_row2\" class=\"row_heading level0 row2\" >Iris-virginica</th>\n",
       "      <td id=\"T_ffbf9_row2_col0\" class=\"data row2 col0\" >6.588000</td>\n",
       "      <td id=\"T_ffbf9_row2_col1\" class=\"data row2 col1\" >2.974000</td>\n",
       "      <td id=\"T_ffbf9_row2_col2\" class=\"data row2 col2\" >5.552000</td>\n",
       "      <td id=\"T_ffbf9_row2_col3\" class=\"data row2 col3\" >2.026000</td>\n",
       "    </tr>\n",
       "  </tbody>\n",
       "</table>\n"
      ],
      "text/plain": [
       "<pandas.io.formats.style.Styler at 0x1a50c8eda00>"
      ]
     },
     "execution_count": 18,
     "metadata": {},
     "output_type": "execute_result"
    }
   ],
   "source": [
    "# Find the mean for each species and each column\n",
    "df.groupby('Species').mean().style.apply(highlight_max)"
   ]
  },
  {
   "cell_type": "code",
   "execution_count": 19,
   "metadata": {},
   "outputs": [
    {
     "data": {
      "text/html": [
       "<style type=\"text/css\">\n",
       "#T_c5990_row0_col0, #T_c5990_row0_col2, #T_c5990_row0_col3, #T_c5990_row1_col1, #T_c5990_row2_col1 {\n",
       "  background-color: orange;\n",
       "}\n",
       "</style>\n",
       "<table id=\"T_c5990\">\n",
       "  <thead>\n",
       "    <tr>\n",
       "      <th class=\"blank level0\" >&nbsp;</th>\n",
       "      <th id=\"T_c5990_level0_col0\" class=\"col_heading level0 col0\" >SepalLengthCm</th>\n",
       "      <th id=\"T_c5990_level0_col1\" class=\"col_heading level0 col1\" >SepalWidthCm</th>\n",
       "      <th id=\"T_c5990_level0_col2\" class=\"col_heading level0 col2\" >PetalLengthCm</th>\n",
       "      <th id=\"T_c5990_level0_col3\" class=\"col_heading level0 col3\" >PetalWidthCm</th>\n",
       "    </tr>\n",
       "    <tr>\n",
       "      <th class=\"index_name level0\" >Species</th>\n",
       "      <th class=\"blank col0\" >&nbsp;</th>\n",
       "      <th class=\"blank col1\" >&nbsp;</th>\n",
       "      <th class=\"blank col2\" >&nbsp;</th>\n",
       "      <th class=\"blank col3\" >&nbsp;</th>\n",
       "    </tr>\n",
       "  </thead>\n",
       "  <tbody>\n",
       "    <tr>\n",
       "      <th id=\"T_c5990_level0_row0\" class=\"row_heading level0 row0\" >Iris-setosa</th>\n",
       "      <td id=\"T_c5990_row0_col0\" class=\"data row0 col0\" >5.006000</td>\n",
       "      <td id=\"T_c5990_row0_col1\" class=\"data row0 col1\" >3.418000</td>\n",
       "      <td id=\"T_c5990_row0_col2\" class=\"data row0 col2\" >1.464000</td>\n",
       "      <td id=\"T_c5990_row0_col3\" class=\"data row0 col3\" >0.244000</td>\n",
       "    </tr>\n",
       "    <tr>\n",
       "      <th id=\"T_c5990_level0_row1\" class=\"row_heading level0 row1\" >Iris-versicolor</th>\n",
       "      <td id=\"T_c5990_row1_col0\" class=\"data row1 col0\" >5.936000</td>\n",
       "      <td id=\"T_c5990_row1_col1\" class=\"data row1 col1\" >2.770000</td>\n",
       "      <td id=\"T_c5990_row1_col2\" class=\"data row1 col2\" >4.260000</td>\n",
       "      <td id=\"T_c5990_row1_col3\" class=\"data row1 col3\" >1.326000</td>\n",
       "    </tr>\n",
       "    <tr>\n",
       "      <th id=\"T_c5990_level0_row2\" class=\"row_heading level0 row2\" >Iris-virginica</th>\n",
       "      <td id=\"T_c5990_row2_col0\" class=\"data row2 col0\" >6.588000</td>\n",
       "      <td id=\"T_c5990_row2_col1\" class=\"data row2 col1\" >2.974000</td>\n",
       "      <td id=\"T_c5990_row2_col2\" class=\"data row2 col2\" >5.552000</td>\n",
       "      <td id=\"T_c5990_row2_col3\" class=\"data row2 col3\" >2.026000</td>\n",
       "    </tr>\n",
       "  </tbody>\n",
       "</table>\n"
      ],
      "text/plain": [
       "<pandas.io.formats.style.Styler at 0x1a50c93c100>"
      ]
     },
     "execution_count": 19,
     "metadata": {},
     "output_type": "execute_result"
    }
   ],
   "source": [
    "# Mark all the cells with mean smaller than the global mean\n",
    "def highlight_mean(s):\n",
    "    is_mean = s < s.mean()\n",
    "    return ['background-color: orange' if v else '' for v in is_mean]\n",
    "\n",
    "df.groupby('Species').mean().style.apply(highlight_mean)"
   ]
  }
 ],
 "metadata": {
  "kernelspec": {
   "display_name": "Python 3.8.12 ('base')",
   "language": "python",
   "name": "python3"
  },
  "language_info": {
   "codemirror_mode": {
    "name": "ipython",
    "version": 3
   },
   "file_extension": ".py",
   "mimetype": "text/x-python",
   "name": "python",
   "nbconvert_exporter": "python",
   "pygments_lexer": "ipython3",
   "version": "3.8.12"
  },
  "orig_nbformat": 4,
  "vscode": {
   "interpreter": {
    "hash": "88279d2366fe020547cde40dd65aa0e3aa662a6ec1f3ca12d88834876c85e1a6"
   }
  }
 },
 "nbformat": 4,
 "nbformat_minor": 2
}
